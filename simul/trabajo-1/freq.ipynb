{
 "cells": [
  {
   "cell_type": "code",
   "execution_count": 22,
   "id": "103df062",
   "metadata": {},
   "outputs": [
    {
     "data": {
      "text/plain": [
       "category\n",
       "Billetera/Monedera    95128\n",
       "Accesorios            74565\n",
       "Zapatos               67258\n",
       "Correas               37912\n",
       "Bolsos                13092\n",
       "Chaqueta               1752\n",
       "Gorra/Boina            1451\n",
       "Name: count, dtype: int64"
      ]
     },
     "execution_count": 22,
     "metadata": {},
     "output_type": "execute_result"
    }
   ],
   "source": [
    "import pandas as pd\n",
    "inv = pd.read_csv('public/inventory.csv')\n",
    "pv = pd.read_csv('public/productos_venta.csv')\n",
    "inv.merge(pv, 'inner', left_on='inventory_id', right_on='inventory_id').loc[:, 'category'].value_counts()\n"
   ]
  }
 ],
 "metadata": {
  "kernelspec": {
   "display_name": "base",
   "language": "python",
   "name": "python3"
  },
  "language_info": {
   "codemirror_mode": {
    "name": "ipython",
    "version": 3
   },
   "file_extension": ".py",
   "mimetype": "text/x-python",
   "name": "python",
   "nbconvert_exporter": "python",
   "pygments_lexer": "ipython3",
   "version": "3.12.2"
  }
 },
 "nbformat": 4,
 "nbformat_minor": 5
}
