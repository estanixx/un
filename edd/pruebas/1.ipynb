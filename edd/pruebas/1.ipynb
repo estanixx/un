{
 "cells": [
  {
   "cell_type": "code",
   "execution_count": null,
   "metadata": {},
   "outputs": [],
   "source": [
    "def recursive_solve(A, s, e):\n",
    "  if A[s] > A[e]:\n",
    "    # Greater in range:\n",
    "    if e - s == 1:\n",
    "      # Quedan dos elementos\n",
    "      return A[s]\n",
    "    else:\n",
    "      left = recursive_solve(A, s, (e + s) // 2)\n",
    "      right = recursive_solve(A, (e + s) // 2, e)\n",
    "      if left is not None:\n",
    "        return left\n",
    "      else:\n",
    "        return right\n",
    "    \n",
    "    \n",
    "def solve(A, N):\n",
    "  return recursive_solve(A, 0, N-1)\n",
    "\n",
    "print(solve([10, 11, 2, 3, 4, 5, 6], 7))\n",
    "\n"
   ]
  },
  {
   "cell_type": "code",
   "execution_count": 2,
   "metadata": {},
   "outputs": [
    {
     "data": {
      "text/plain": [
       "[7, 25, 18, 31, 52, 23, 60, 45, 36]"
      ]
     },
     "execution_count": 2,
     "metadata": {},
     "output_type": "execute_result"
    }
   ],
   "source": [
    "import heapq\n",
    "h = []\n",
    "for element in \"45, 23, 18, 36, 52, 7, 60, 25, 31\".split(', '):\n",
    "  element = int(element)\n",
    "  heapq.heappush(h, element)\n",
    "h"
   ]
  },
  {
   "cell_type": "code",
   "execution_count": 25,
   "metadata": {},
   "outputs": [
    {
     "name": "stdout",
     "output_type": "stream",
     "text": [
      "SI\n"
     ]
    }
   ],
   "source": [
    "import re\n",
    "pattern = 'UNAL'\n",
    "letras = 'E L P L A G I O A N U L A'\n",
    "letras = letras.replace(' ', '')\n",
    "\n",
    "if re.search(r'\\w*'.join(pattern), letras) or re.search(r'\\w*'.join(pattern[::-1]), letras): \n",
    "  print('SI')\n",
    "else:\n",
    "  print('NO')\n"
   ]
  }
 ],
 "metadata": {
  "kernelspec": {
   "display_name": "base",
   "language": "python",
   "name": "python3"
  },
  "language_info": {
   "codemirror_mode": {
    "name": "ipython",
    "version": 3
   },
   "file_extension": ".py",
   "mimetype": "text/x-python",
   "name": "python",
   "nbconvert_exporter": "python",
   "pygments_lexer": "ipython3",
   "version": "3.12.2"
  }
 },
 "nbformat": 4,
 "nbformat_minor": 2
}
